{
 "cells": [
  {
   "cell_type": "code",
   "execution_count": 9,
   "id": "b9da09aa-3b73-408e-946a-2d3f0ac046bf",
   "metadata": {},
   "outputs": [
    {
     "name": "stdout",
     "output_type": "stream",
     "text": [
      "6\n"
     ]
    }
   ],
   "source": [
    "N = ord('A') % 10 + 1;\n",
    "print(N);"
   ]
  },
  {
   "cell_type": "markdown",
   "id": "ebe8dddf-7db2-424f-ad78-57427ba05ccc",
   "metadata": {},
   "source": [
    "# Йорданія\n",
    "\n",
    "<!-- Стилізоване блокове оформлення -->\n",
    "<div style=\"border: 3px dashed #333; padding: 15px; background-color: #29f929; border-radius: 10px;\">\n",
    "\n",
    "## Основна інформація\n",
    "**Площа:** 89 342 км²  \n",
    "**Населення:** приблизно 10 мільйонів осіб  \n",
    "**Столиця:** Амман  \n",
    "**Державний устрій:** конституційна монархія\n",
    "\n",
    "</div>\n",
    "\n",
    "---\n",
    "\n",
    "<!-- Візуально виділений блок -->\n",
    "<div style=\"color: #0056b3; border: 3px solid #2e8b57; padding: 15px; border-radius: 10px;\">\n",
    "\n",
    "## Видатні персоналії\n",
    "- **Король Абдалла II** – чинний король Йорданії.\n",
    "- **Королева Ранія** – відома своїм активізмом у галузі освіти, прав жінок та дітей.\n",
    "- **Лоуренс Аравійський** – відомий за участь у Арабському повстанні.\n",
    "\n",
    "</div>\n",
    "\n",
    "---\n",
    "\n",
    "## Пам'ятки культури та природи\n",
    "\n",
    "1. **Петра**  \n",
    "   - Древнє місто, висічене у скелях.\n",
    "   - Входить до списку Світової спадщини ЮНЕСКО.\n",
    "\n",
    "2. **Ваді Рам**  \n",
    "   - Червоний пустельний ландшафт, також відомий як Долина Місяця.\n",
    "   - Місце зйомок багатьох голлівудських фільмів.\n",
    "\n",
    "3. **Мертве море**  \n",
    "   - Найнижча точка на земній поверхні.\n",
    "   - Має високий вміст солей, що дозволяє воді утримувати тіла на поверхні.\n",
    "\n",
    "---\n",
    "\n",
    "## Економіка\n",
    "Основними галузями економіки є туризм, сільське господарство та гірничодобувна промисловість.\n",
    "\n",
    "---\n",
    "\n",
    "## Таблиця: Основні показники Йорданії\n",
    "\n",
    "| Показник          | Значення            |\n",
    "|-------------------|---------------------|\n",
    "| Площа             | 89 342 км²          |\n",
    "| Населення         | 10 мільйонів        |\n",
    "| Столиця           | Амман               |\n",
    "| Офіційна мова     | Арабська            |\n",
    "| Валюта            | Йорданський динар (JOD) |\n",
    "| Форма правління   | Конституційна монархія |\n",
    "\n",
    "---\n",
    "\n",
    "## Список визначних місць\n",
    "- Петра\n",
    "- Ваді Рам\n",
    "- Мертве море\n",
    "\n",
    "### Підсписок: Особливості природи\n",
    "- Червоні піски\n",
    "- Кам'яні формації\n",
    "  - Високі скелі\n",
    "  - Неповторні арки\n",
    "\n",
    "---\n",
    "\n",
    "## Зображення та гіперпосилання\n",
    "\n",
    "[![](https://upload.wikimedia.org/wikipedia/commons/thumb/b/b2/Jordan_%28orthographic_projection%29.svg/1024px-Jordan_%28orthographic_projection%29.svg.png)](https://uk.wikipedia.org/wiki/Йорданія)\n",
    "\n",
    "![Місто Петра](https://upload.wikimedia.org/wikipedia/commons/thumb/6/62/Al_Khazneh_Petra_edit_2.jpg/800px-Al_Khazneh_Petra_edit_2.jpg)\n",
    "\n",
    "---\n"
   ]
  },
  {
   "cell_type": "code",
   "execution_count": 14,
   "id": "43e6c4da-1345-4465-b9d6-94a8f073044e",
   "metadata": {},
   "outputs": [
    {
     "data": {
      "text/html": [
       "<h1>Прапор Йорданії за допомогою HTML</h1>\n",
       "<svg xmlns=\"http://www.w3.org/2000/svg\" viewBox=\"0 0 60 30\">\n",
       "  <rect width=\"60\" height=\"10\" style=\"fill:black\" />\n",
       "  <rect y=\"10\" width=\"60\" height=\"10\" style=\"fill:white\" />\n",
       "  <rect y=\"20\" width=\"60\" height=\"10\" style=\"fill:green\" />\n",
       "  <polygon points=\"0,0 24,15 0,30\" style=\"fill:red\" />\n",
       "  <polygon points=\"5,15 3.5,16.5 2,15 3.5,13.5\" style=\"fill:white\"/>\n",
       "</svg>\n"
      ],
      "text/plain": [
       "<IPython.core.display.HTML object>"
      ]
     },
     "metadata": {},
     "output_type": "display_data"
    }
   ],
   "source": [
    "%%HTML\n",
    "<h1>Прапор Йорданії за допомогою HTML</h1>\n",
    "<svg xmlns=\"http://www.w3.org/2000/svg\" viewBox=\"0 0 60 30\">\n",
    "  <rect width=\"60\" height=\"10\" style=\"fill:black\" />\n",
    "  <rect y=\"10\" width=\"60\" height=\"10\" style=\"fill:white\" />\n",
    "  <rect y=\"20\" width=\"60\" height=\"10\" style=\"fill:green\" />\n",
    "  <polygon points=\"0,0 24,15 0,30\" style=\"fill:red\" />\n",
    "  <polygon points=\"5,15 3.5,16.5 2,15 3.5,13.5\" style=\"fill:white\"/>\n",
    "</svg>"
   ]
  },
  {
   "cell_type": "code",
   "execution_count": 16,
   "id": "16fcf218-856f-415a-a76e-4da7682e6e89",
   "metadata": {},
   "outputs": [
    {
     "name": "stdout",
     "output_type": "stream",
     "text": [
      "[3, 5, 7, 11, 13]\n",
      "[7, 11, 13, 17, 19, 23]\n",
      "[]\n",
      "Неправильний ввід! Перевірте, що a ≥ 2, b ≥ 2 і a ≤ b.\n"
     ]
    }
   ],
   "source": [
    "def task_6(a, b):\n",
    "    if a < 2 or b < 2 or a > b:\n",
    "        return \"Неправильний ввід! Перевірте, що a ≥ 2, b ≥ 2 і a ≤ b.\"\n",
    "    \n",
    "    def is_prime(n):\n",
    "        if n < 2:\n",
    "            return False\n",
    "        for i in range(2, int(n**0.5) + 1):\n",
    "            if n % i == 0:\n",
    "                return False\n",
    "        return True\n",
    "\n",
    "    primes = [x for x in range(a, b + 1) if is_prime(x)]\n",
    "    \n",
    "    return primes\n",
    "\n",
    "print(task_6(3, 15))  # [3, 5, 7, 11, 13]\n",
    "print(task_6(6, 24))  # [7, 11, 13, 17, 19, 23]\n",
    "print(task_6(10, 10))  # []\n",
    "print(task_6(10, 1))"
   ]
  },
  {
   "cell_type": "code",
   "execution_count": null,
   "id": "4ef33419-2a10-44af-89b7-f413fddc1f81",
   "metadata": {},
   "outputs": [],
   "source": []
  }
 ],
 "metadata": {
  "kernelspec": {
   "display_name": "Python 3 (ipykernel)",
   "language": "python",
   "name": "python3"
  },
  "language_info": {
   "codemirror_mode": {
    "name": "ipython",
    "version": 3
   },
   "file_extension": ".py",
   "mimetype": "text/x-python",
   "name": "python",
   "nbconvert_exporter": "python",
   "pygments_lexer": "ipython3",
   "version": "3.12.4"
  }
 },
 "nbformat": 4,
 "nbformat_minor": 5
}
